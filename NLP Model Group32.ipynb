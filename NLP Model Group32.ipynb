{
  "nbformat": 4,
  "nbformat_minor": 0,
  "metadata": {
    "colab": {
      "provenance": [],
      "gpuType": "T4",
      "collapsed_sections": [
        "IfqxuL5uaMej",
        "9_vTofNHaBTL",
        "TYofJGbQWh-o",
        "yP_wewP7fwJe",
        "elv7f7UYZihy",
        "WsCLdc1JpcBq",
        "793svYrqFWgS"
      ],
      "machine_shape": "hm"
    },
    "kernelspec": {
      "name": "python3",
      "display_name": "Python 3"
    },
    "language_info": {
      "name": "python"
    },
    "accelerator": "GPU",
    "gpuClass": "standard"
  },
  "cells": [
    {
      "cell_type": "markdown",
      "source": [
        "## <a>**Required Imports**"
      ],
      "metadata": {
        "id": "SYLfdu5AUNWd"
      }
    },
    {
      "cell_type": "code",
      "source": [
        "%%capture\n",
        "!pip install fasttext"
      ],
      "metadata": {
        "id": "q5oFCkYsfG2x"
      },
      "execution_count": null,
      "outputs": []
    },
    {
      "cell_type": "code",
      "source": [
        "# Code to download file into Colaboratory:\n",
        "!pip install -U -q PyDrive\n",
        "from pydrive.auth import GoogleAuth\n",
        "from pydrive.drive import GoogleDrive\n",
        "from google.colab import auth\n",
        "from oauth2client.client import GoogleCredentials\n",
        "import pandas as pd\n",
        "import torch\n",
        "import torch.nn as nn\n",
        "import torch.optim as optim\n",
        "import numpy as np\n",
        "import fasttext"
      ],
      "metadata": {
        "id": "de-NwsgvfAk2"
      },
      "execution_count": null,
      "outputs": []
    },
    {
      "cell_type": "markdown",
      "source": [
        "## <a>**Load the Q&A Data**"
      ],
      "metadata": {
        "id": "qsx8uUZNE_I4"
      }
    },
    {
      "cell_type": "code",
      "source": [
        "# Authenticate and create the PyDrive client.\n",
        "auth.authenticate_user()\n",
        "gauth = GoogleAuth()\n",
        "gauth.credentials = GoogleCredentials.get_application_default()\n",
        "drive = GoogleDrive(gauth)\n",
        "\n",
        "downloaded = drive.CreateFile({'id': '18Nm_7itV325ApmW66ok2a9ENbISa0X-7'})\n",
        "downloaded.GetContentFile('WikiQA-train.tsv')\n",
        "\n",
        "downloaded = drive.CreateFile({'id': '1s8uBaTYpAgk_d2T2dvoYJSTjMw6_Xjun'})\n",
        "downloaded.GetContentFile('WikiQA-test.tsv')"
      ],
      "metadata": {
        "id": "heXcmbdrB1TA"
      },
      "execution_count": null,
      "outputs": []
    },
    {
      "cell_type": "code",
      "source": [
        "df_train = pd.read_csv('WikiQA-train.tsv', sep=\"\\t\")\n",
        "df_test = pd.read_csv('WikiQA-test.tsv', sep=\"\\t\")"
      ],
      "metadata": {
        "id": "OyZwd9xfE5Vz"
      },
      "execution_count": null,
      "outputs": []
    },
    {
      "cell_type": "code",
      "source": [
        "df_train[df_train[\"DocumentID\"] == \"D1001\"].head(5)"
      ],
      "metadata": {
        "id": "5aAZxxQnCD93",
        "colab": {
          "base_uri": "https://localhost:8080/",
          "height": 206
        },
        "outputId": "a0d136d4-b0ec-4b10-f120-819be9838b97"
      },
      "execution_count": null,
      "outputs": [
        {
          "output_type": "execute_result",
          "data": {
            "text/plain": [
              "     QuestionID                     Question DocumentID DocumentTitle  \\\n",
              "7382      Q1038  when did the cold war start      D1001      Cold War   \n",
              "7383      Q1038  when did the cold war start      D1001      Cold War   \n",
              "7384      Q1038  when did the cold war start      D1001      Cold War   \n",
              "7385      Q1038  when did the cold war start      D1001      Cold War   \n",
              "7386      Q1038  when did the cold war start      D1001      Cold War   \n",
              "\n",
              "     SentenceID                                           Sentence  Label  \n",
              "7382    D1001-0  Photograph of the Berlin Wall taken from the W...      0  \n",
              "7383    D1001-1  The Wall was built in 1961 to prevent East Ger...      0  \n",
              "7384    D1001-2  It was an iconic symbol of the Cold War and it...      0  \n",
              "7385    D1001-3  The Cold War, often dated from 1947 to 1991, w...      1  \n",
              "7386    D1001-4  This began after the success of their temporar...      0  "
            ],
            "text/html": [
              "\n",
              "  <div id=\"df-204591b8-f9e5-4281-9eff-7c1d37575bbd\">\n",
              "    <div class=\"colab-df-container\">\n",
              "      <div>\n",
              "<style scoped>\n",
              "    .dataframe tbody tr th:only-of-type {\n",
              "        vertical-align: middle;\n",
              "    }\n",
              "\n",
              "    .dataframe tbody tr th {\n",
              "        vertical-align: top;\n",
              "    }\n",
              "\n",
              "    .dataframe thead th {\n",
              "        text-align: right;\n",
              "    }\n",
              "</style>\n",
              "<table border=\"1\" class=\"dataframe\">\n",
              "  <thead>\n",
              "    <tr style=\"text-align: right;\">\n",
              "      <th></th>\n",
              "      <th>QuestionID</th>\n",
              "      <th>Question</th>\n",
              "      <th>DocumentID</th>\n",
              "      <th>DocumentTitle</th>\n",
              "      <th>SentenceID</th>\n",
              "      <th>Sentence</th>\n",
              "      <th>Label</th>\n",
              "    </tr>\n",
              "  </thead>\n",
              "  <tbody>\n",
              "    <tr>\n",
              "      <th>7382</th>\n",
              "      <td>Q1038</td>\n",
              "      <td>when did the cold war start</td>\n",
              "      <td>D1001</td>\n",
              "      <td>Cold War</td>\n",
              "      <td>D1001-0</td>\n",
              "      <td>Photograph of the Berlin Wall taken from the W...</td>\n",
              "      <td>0</td>\n",
              "    </tr>\n",
              "    <tr>\n",
              "      <th>7383</th>\n",
              "      <td>Q1038</td>\n",
              "      <td>when did the cold war start</td>\n",
              "      <td>D1001</td>\n",
              "      <td>Cold War</td>\n",
              "      <td>D1001-1</td>\n",
              "      <td>The Wall was built in 1961 to prevent East Ger...</td>\n",
              "      <td>0</td>\n",
              "    </tr>\n",
              "    <tr>\n",
              "      <th>7384</th>\n",
              "      <td>Q1038</td>\n",
              "      <td>when did the cold war start</td>\n",
              "      <td>D1001</td>\n",
              "      <td>Cold War</td>\n",
              "      <td>D1001-2</td>\n",
              "      <td>It was an iconic symbol of the Cold War and it...</td>\n",
              "      <td>0</td>\n",
              "    </tr>\n",
              "    <tr>\n",
              "      <th>7385</th>\n",
              "      <td>Q1038</td>\n",
              "      <td>when did the cold war start</td>\n",
              "      <td>D1001</td>\n",
              "      <td>Cold War</td>\n",
              "      <td>D1001-3</td>\n",
              "      <td>The Cold War, often dated from 1947 to 1991, w...</td>\n",
              "      <td>1</td>\n",
              "    </tr>\n",
              "    <tr>\n",
              "      <th>7386</th>\n",
              "      <td>Q1038</td>\n",
              "      <td>when did the cold war start</td>\n",
              "      <td>D1001</td>\n",
              "      <td>Cold War</td>\n",
              "      <td>D1001-4</td>\n",
              "      <td>This began after the success of their temporar...</td>\n",
              "      <td>0</td>\n",
              "    </tr>\n",
              "  </tbody>\n",
              "</table>\n",
              "</div>\n",
              "      <button class=\"colab-df-convert\" onclick=\"convertToInteractive('df-204591b8-f9e5-4281-9eff-7c1d37575bbd')\"\n",
              "              title=\"Convert this dataframe to an interactive table.\"\n",
              "              style=\"display:none;\">\n",
              "        \n",
              "  <svg xmlns=\"http://www.w3.org/2000/svg\" height=\"24px\"viewBox=\"0 0 24 24\"\n",
              "       width=\"24px\">\n",
              "    <path d=\"M0 0h24v24H0V0z\" fill=\"none\"/>\n",
              "    <path d=\"M18.56 5.44l.94 2.06.94-2.06 2.06-.94-2.06-.94-.94-2.06-.94 2.06-2.06.94zm-11 1L8.5 8.5l.94-2.06 2.06-.94-2.06-.94L8.5 2.5l-.94 2.06-2.06.94zm10 10l.94 2.06.94-2.06 2.06-.94-2.06-.94-.94-2.06-.94 2.06-2.06.94z\"/><path d=\"M17.41 7.96l-1.37-1.37c-.4-.4-.92-.59-1.43-.59-.52 0-1.04.2-1.43.59L10.3 9.45l-7.72 7.72c-.78.78-.78 2.05 0 2.83L4 21.41c.39.39.9.59 1.41.59.51 0 1.02-.2 1.41-.59l7.78-7.78 2.81-2.81c.8-.78.8-2.07 0-2.86zM5.41 20L4 18.59l7.72-7.72 1.47 1.35L5.41 20z\"/>\n",
              "  </svg>\n",
              "      </button>\n",
              "      \n",
              "  <style>\n",
              "    .colab-df-container {\n",
              "      display:flex;\n",
              "      flex-wrap:wrap;\n",
              "      gap: 12px;\n",
              "    }\n",
              "\n",
              "    .colab-df-convert {\n",
              "      background-color: #E8F0FE;\n",
              "      border: none;\n",
              "      border-radius: 50%;\n",
              "      cursor: pointer;\n",
              "      display: none;\n",
              "      fill: #1967D2;\n",
              "      height: 32px;\n",
              "      padding: 0 0 0 0;\n",
              "      width: 32px;\n",
              "    }\n",
              "\n",
              "    .colab-df-convert:hover {\n",
              "      background-color: #E2EBFA;\n",
              "      box-shadow: 0px 1px 2px rgba(60, 64, 67, 0.3), 0px 1px 3px 1px rgba(60, 64, 67, 0.15);\n",
              "      fill: #174EA6;\n",
              "    }\n",
              "\n",
              "    [theme=dark] .colab-df-convert {\n",
              "      background-color: #3B4455;\n",
              "      fill: #D2E3FC;\n",
              "    }\n",
              "\n",
              "    [theme=dark] .colab-df-convert:hover {\n",
              "      background-color: #434B5C;\n",
              "      box-shadow: 0px 1px 3px 1px rgba(0, 0, 0, 0.15);\n",
              "      filter: drop-shadow(0px 1px 2px rgba(0, 0, 0, 0.3));\n",
              "      fill: #FFFFFF;\n",
              "    }\n",
              "  </style>\n",
              "\n",
              "      <script>\n",
              "        const buttonEl =\n",
              "          document.querySelector('#df-204591b8-f9e5-4281-9eff-7c1d37575bbd button.colab-df-convert');\n",
              "        buttonEl.style.display =\n",
              "          google.colab.kernel.accessAllowed ? 'block' : 'none';\n",
              "\n",
              "        async function convertToInteractive(key) {\n",
              "          const element = document.querySelector('#df-204591b8-f9e5-4281-9eff-7c1d37575bbd');\n",
              "          const dataTable =\n",
              "            await google.colab.kernel.invokeFunction('convertToInteractive',\n",
              "                                                     [key], {});\n",
              "          if (!dataTable) return;\n",
              "\n",
              "          const docLinkHtml = 'Like what you see? Visit the ' +\n",
              "            '<a target=\"_blank\" href=https://colab.research.google.com/notebooks/data_table.ipynb>data table notebook</a>'\n",
              "            + ' to learn more about interactive tables.';\n",
              "          element.innerHTML = '';\n",
              "          dataTable['output_type'] = 'display_data';\n",
              "          await google.colab.output.renderOutput(dataTable, element);\n",
              "          const docLink = document.createElement('div');\n",
              "          docLink.innerHTML = docLinkHtml;\n",
              "          element.appendChild(docLink);\n",
              "        }\n",
              "      </script>\n",
              "    </div>\n",
              "  </div>\n",
              "  "
            ]
          },
          "metadata": {},
          "execution_count": 5
        }
      ]
    },
    {
      "cell_type": "code",
      "source": [
        "testing_Question = df_train[df_train[\"DocumentID\"] == \"D1\"][\"Question\"][0]\n",
        "print (testing_Question)\n",
        "\n",
        "testing_sentence = df_train[df_train[\"DocumentID\"] == \"D1\"][\"Sentence\"][0]\n",
        "print (testing_sentence)"
      ],
      "metadata": {
        "id": "6zhQfPtzCO5G",
        "colab": {
          "base_uri": "https://localhost:8080/"
        },
        "outputId": "13d2e27b-b6bf-4b02-9faf-6b6e74eb944f"
      },
      "execution_count": null,
      "outputs": [
        {
          "output_type": "stream",
          "name": "stdout",
          "text": [
            "how are glacier caves formed?\n",
            "A partly submerged glacier cave on Perito Moreno Glacier .\n"
          ]
        }
      ]
    },
    {
      "cell_type": "code",
      "source": [
        "# Split the test dataset to 50:50 validation and testing\n",
        "\n",
        "from sklearn.model_selection import train_test_split\n",
        "df_test, df_val = train_test_split(df_test,random_state=42, test_size=0.5, shuffle=True, stratify=df_test['Label'])"
      ],
      "metadata": {
        "id": "Y4E6K6nBEPUR"
      },
      "execution_count": null,
      "outputs": []
    },
    {
      "cell_type": "code",
      "source": [
        "df_train = df_train[['Question', 'Sentence', 'Label']]\n",
        "df_train = df_train.sample(frac=1, random_state=42).reset_index(drop=True)"
      ],
      "metadata": {
        "id": "TYRBXjNKEZ2h"
      },
      "execution_count": null,
      "outputs": []
    },
    {
      "cell_type": "code",
      "source": [
        "df_val = df_val[['Question', 'Sentence', 'Label']]\n",
        "df_val = df_val.sample(frac=1, random_state=42).reset_index(drop=True)"
      ],
      "metadata": {
        "id": "-hohWSX9FvSa"
      },
      "execution_count": null,
      "outputs": []
    },
    {
      "cell_type": "code",
      "source": [
        "df_test = df_test[['Question', 'Sentence', 'Label']]\n",
        "df_test = df_test.sample(frac=1, random_state=42).reset_index(drop=True)"
      ],
      "metadata": {
        "id": "OBEr2A3UEntl"
      },
      "execution_count": null,
      "outputs": []
    },
    {
      "cell_type": "code",
      "source": [
        "df_val.shape\n",
        "\n",
        "label_counts = df_test['Label'].value_counts()\n",
        "label_counts"
      ],
      "metadata": {
        "colab": {
          "base_uri": "https://localhost:8080/"
        },
        "id": "O2z7rfGTk4sF",
        "outputId": "25ac8ce4-2f9b-4e86-ba9b-8a196a062f2e"
      },
      "execution_count": null,
      "outputs": [
        {
          "output_type": "execute_result",
          "data": {
            "text/plain": [
              "0    2912\n",
              "1     146\n",
              "Name: Label, dtype: int64"
            ]
          },
          "metadata": {},
          "execution_count": 11
        }
      ]
    },
    {
      "cell_type": "markdown",
      "metadata": {
        "id": "BqWW5JZq5IYX"
      },
      "source": [
        "## <A>**Preprocess and Tokenize The Dataset using 3 Features**\n",
        "\n"
      ]
    },
    {
      "cell_type": "markdown",
      "metadata": {
        "id": "IfqxuL5uaMej"
      },
      "source": [
        "##### Lemmatization\n"
      ]
    },
    {
      "cell_type": "code",
      "execution_count": null,
      "metadata": {
        "id": "0oUiEl2QygBY"
      },
      "outputs": [],
      "source": [
        "# These are just common English contractions. We used it in Lab 5 before!\n",
        "contraction_dict = {\"ain't\": \"is not\", \"aren't\": \"are not\",\"can't\": \"cannot\", \"'cause\": \"because\", \"could've\": \"could have\",\n",
        "                    \"couldn't\": \"could not\", \"didn't\": \"did not\",  \"doesn't\": \"does not\", \"don't\": \"do not\", \"hadn't\": \"had not\",\n",
        "                    \"hasn't\": \"has not\", \"haven't\": \"have not\", \"he'd\": \"he would\",\"he'll\": \"he will\", \"he's\": \"he is\", \"how'd\": \"how did\",\n",
        "                    \"how'd'y\": \"how do you\", \"how'll\": \"how will\", \"how's\": \"how is\",  \"I'd\": \"I would\", \"I'd've\": \"I would have\",\n",
        "                    \"I'll\": \"I will\", \"I'll've\": \"I will have\",\"I'm\": \"I am\", \"I've\": \"I have\", \"i'd\": \"i would\", \"i'd've\": \"i would have\",\n",
        "                    \"i'll\": \"i will\",  \"i'll've\": \"i will have\",\"i'm\": \"i am\", \"i've\": \"i have\", \"isn't\": \"is not\", \"it'd\": \"it would\",\n",
        "                    \"it'd've\": \"it would have\", \"it'll\": \"it will\", \"it'll've\": \"it will have\",\"it's\": \"it is\", \"let's\": \"let us\",\n",
        "                    \"ma'am\": \"madam\", \"mayn't\": \"may not\", \"might've\": \"might have\",\"mightn't\": \"might not\",\"mightn't've\": \"might not have\",\n",
        "                    \"must've\": \"must have\", \"mustn't\": \"must not\", \"mustn't've\": \"must not have\", \"needn't\": \"need not\", \"needn't've\": \"need not have\",\n",
        "                    \"o'clock\": \"of the clock\", \"oughtn't\": \"ought not\", \"oughtn't've\": \"ought not have\", \"shan't\": \"shall not\", \"sha'n't\": \"shall not\",\n",
        "                    \"shan't've\": \"shall not have\", \"she'd\": \"she would\", \"she'd've\": \"she would have\", \"she'll\": \"she will\", \"she'll've\": \"she will have\",\n",
        "                    \"she's\": \"she is\", \"should've\": \"should have\", \"shouldn't\": \"should not\", \"shouldn't've\": \"should not have\", \"so've\": \"so have\",\n",
        "                    \"so's\": \"so as\", \"this's\": \"this is\",\"that'd\": \"that would\", \"that'd've\": \"that would have\", \"that's\": \"that is\", \"there'd\": \"there would\",\n",
        "                    \"there'd've\": \"there would have\", \"there's\": \"there is\", \"here's\": \"here is\",\"they'd\": \"they would\", \"they'd've\": \"they would have\",\n",
        "                    \"they'll\": \"they will\", \"they'll've\": \"they will have\", \"they're\": \"they are\", \"they've\": \"they have\", \"to've\": \"to have\", \"wasn't\": \"was not\",\n",
        "                    \"we'd\": \"we would\", \"we'd've\": \"we would have\", \"we'll\": \"we will\", \"we'll've\": \"we will have\", \"we're\": \"we are\", \"we've\": \"we have\",\n",
        "                    \"weren't\": \"were not\", \"what'll\": \"what will\", \"what'll've\": \"what will have\", \"what're\": \"what are\",  \"what's\": \"what is\", \"what've\": \"what have\",\n",
        "                    \"when's\": \"when is\", \"when've\": \"when have\", \"where'd\": \"where did\", \"where's\": \"where is\", \"where've\": \"where have\", \"who'll\": \"who will\",\n",
        "                    \"who'll've\": \"who will have\", \"who's\": \"who is\", \"who've\": \"who have\", \"why's\": \"why is\", \"why've\": \"why have\", \"will've\": \"will have\",\n",
        "                    \"won't\": \"will not\", \"won't've\": \"will not have\", \"would've\": \"would have\", \"wouldn't\": \"would not\", \"wouldn't've\": \"would not have\",\n",
        "                    \"y'all\": \"you all\", \"y'all'd\": \"you all would\",\"y'all'd've\": \"you all would have\",\"y'all're\": \"you all are\",\"y'all've\": \"you all have\",\n",
        "                    \"you'd\": \"you would\", \"you'd've\": \"you would have\", \"you'll\": \"you will\", \"you'll've\": \"you will have\", \"you're\": \"you are\", \"you've\": \"you have\"}\n"
      ]
    },
    {
      "cell_type": "code",
      "execution_count": null,
      "metadata": {
        "id": "QIEqDDT78q39",
        "colab": {
          "base_uri": "https://localhost:8080/"
        },
        "outputId": "29ff2fcf-486d-4f69-b529-9e7095ae3e1d"
      },
      "outputs": [
        {
          "output_type": "stream",
          "name": "stderr",
          "text": [
            "[nltk_data] Downloading package wordnet to /root/nltk_data...\n",
            "[nltk_data] Downloading package punkt to /root/nltk_data...\n",
            "[nltk_data]   Unzipping tokenizers/punkt.zip.\n",
            "[nltk_data] Downloading package averaged_perceptron_tagger to\n",
            "[nltk_data]     /root/nltk_data...\n",
            "[nltk_data]   Unzipping taggers/averaged_perceptron_tagger.zip.\n"
          ]
        }
      ],
      "source": [
        "import re\n",
        "import nltk\n",
        "nltk.download('wordnet')\n",
        "nltk.download('punkt')\n",
        "nltk.download('averaged_perceptron_tagger')\n",
        "from nltk.tokenize import word_tokenize\n",
        "from nltk.stem import WordNetLemmatizer\n",
        "\n",
        "lemmatizer = WordNetLemmatizer()\n",
        "\n",
        "# Preprocessing the data\n",
        "def preprocess(sent_list, contraction_dict= contraction_dict):\n",
        "    \"\"\"\n",
        "    This function takes a list of sentences and preprocesses each sentence.\n",
        "    \"\"\"\n",
        "    output = []\n",
        "    for sent in sent_list:\n",
        "        sent= ' '.join(sent)\n",
        "        sent = sent.lower() # case-folding\n",
        "        for word, new_word in contraction_dict.items():\n",
        "            sent = sent.replace(word, new_word) # dealing with contractions\n",
        "\n",
        "        sent = re.sub(r'[^\\w\\s]','',sent) # removing punctuation\n",
        "\n",
        "        tokens = word_tokenize(sent) # tokenization\n",
        "\n",
        "        # lemmatization adapted from lab05\n",
        "        lemma_sentence = [lemmatizer.lemmatize(w) for w in tokens]\n",
        "        output.append(lemma_sentence)\n",
        "\n",
        "    return output"
      ]
    },
    {
      "cell_type": "markdown",
      "metadata": {
        "id": "9_vTofNHaBTL"
      },
      "source": [
        "##### FastText-incorporated Word Embedding"
      ]
    },
    {
      "cell_type": "code",
      "source": [
        "def flatten(l):\n",
        "    return [item for sublist in l for item in sublist]"
      ],
      "metadata": {
        "id": "VN7rqzhtNpp2"
      },
      "execution_count": null,
      "outputs": []
    },
    {
      "cell_type": "code",
      "execution_count": null,
      "metadata": {
        "id": "ddyIqPuPTK59"
      },
      "outputs": [],
      "source": [
        "from gensim.models import FastText\n",
        "import gensim.downloader as api\n",
        "\n",
        "#Word embbedings dictionaries:\n",
        "word_embedding_type = {1:\"glove-wiki-gigaword-100\", 2:'word2vec-google-news-100', 3:'fasttext-wiki-news-subwords-300'}\n",
        "\n",
        "def word_embedding(sent_list, word_embedding_type_key = 1):\n",
        "\n",
        "  # This function will take a list of words and return corresponding list of word vector\n",
        "    word_emb_model_glove = api.load(word_embedding_type[word_embedding_type_key])\n",
        "    ft_cbow_model = FastText(sent_list, vector_size=100, window=5, min_count=1, workers=2, sg=1)\n",
        "\n",
        "    output = []\n",
        "    for sent in sent_list:\n",
        "        word_vector = []\n",
        "        for word in sent:\n",
        "            try:\n",
        "                word_vector.append(word_emb_model_glove.get_vector(word))\n",
        "            except KeyError:\n",
        "                if ft_cbow_model is not None:\n",
        "                    word_vector.append(ft_cbow_model.wv[word])\n",
        "                else:\n",
        "                    word_vector.append(np.zeros(word_emb_model_glove.vector_size, dtype='float32'))\n",
        "        output.append(word_vector)\n",
        "    return output\n",
        "\n"
      ]
    },
    {
      "cell_type": "markdown",
      "metadata": {
        "id": "TYofJGbQWh-o"
      },
      "source": [
        "##### POS Tagging\n"
      ]
    },
    {
      "cell_type": "code",
      "execution_count": null,
      "metadata": {
        "id": "OZBJaWCHAKBn"
      },
      "outputs": [],
      "source": [
        "from nltk.tag import pos_tag\n",
        "\n",
        "def pos_tagging(sentence_list):\n",
        "\n",
        "  #This function will get tokenized words from preprocessing and will return array with corresponding tags\n",
        "  output = []\n",
        "  for sentence in sentence_list:\n",
        "\n",
        "    tagged = pos_tag(sentence)\n",
        "    result = []\n",
        "    for key, item in tagged:\n",
        "        result.append(item)\n",
        "    output.append(result)\n",
        "\n",
        "  return output"
      ]
    },
    {
      "cell_type": "markdown",
      "metadata": {
        "id": "yP_wewP7fwJe"
      },
      "source": [
        "##### NER Tagging"
      ]
    },
    {
      "cell_type": "code",
      "execution_count": null,
      "metadata": {
        "id": "xc_2tDCDdr8G"
      },
      "outputs": [],
      "source": [
        "import spacy\n",
        "import en_core_web_sm\n",
        "from spacy import displacy\n",
        "\n",
        "def NER(sentence_list):\n",
        "  \"\"\"\n",
        "  This function will assign entity to each word in the world list after preporcessed.\n",
        "  \"\"\"\n",
        "  nlp = en_core_web_sm.load()\n",
        "  output =[]\n",
        "  for word_list in sentence_list:\n",
        "    entities = {}\n",
        "    sentence = \" \".join(word_list)\n",
        "\n",
        "    # loading pre-trained model of NER\n",
        "\n",
        "    sentence = nlp(sentence)\n",
        "\n",
        "    for i in range(len(sentence.ents)):\n",
        "      words = sentence.ents[i].text.split() # the text\n",
        "      tag = sentence.ents[i].label_ # the NER tag\n",
        "      for word in words:\n",
        "          entities[word]=tag\n",
        "    entities_list = []\n",
        "\n",
        "    # wil allocatie entities if found in the entities otherwise it will allocate \"O\" which is other\n",
        "    for word in word_list:\n",
        "      if entities.get(word):\n",
        "        entities_list.append(entities.get(word))\n",
        "      else:\n",
        "        entities_list.append(\"O\")\n",
        "    output.append(entities_list)\n",
        "  return output\n",
        ""
      ]
    },
    {
      "cell_type": "markdown",
      "metadata": {
        "id": "elv7f7UYZihy"
      },
      "source": [
        "##### TF-IDF"
      ]
    },
    {
      "cell_type": "code",
      "execution_count": null,
      "metadata": {
        "id": "bKyqqbsIZhxN"
      },
      "outputs": [],
      "source": [
        "from collections import Counter\n",
        "import math\n",
        "import numpy as np\n",
        "\n",
        "def tf_idf(sent_list):\n",
        "  output = []\n",
        "  DF = {}\n",
        "\n",
        "  for sent in sent_list:\n",
        "      #  Get each unique word in the doc - and count the number of occurrences in the document\n",
        "      for term in np.unique(sent):\n",
        "          try:\n",
        "              DF[term] +=1\n",
        "          except:\n",
        "              DF[term] =1\n",
        "\n",
        "  tf_idf = {}\n",
        "\n",
        "\n",
        "  # total number of sentences\n",
        "  N = len(sent_list)\n",
        "\n",
        "  doc_id = 0\n",
        "  # get each tokenised doc\n",
        "  for sent in sent_list:\n",
        "      tf_idf_amir = {}\n",
        "      # initialise counter for the sent\n",
        "      counter = Counter(sent)\n",
        "      # calculate total number of words in the doc\n",
        "      total_num_words = len(sent)\n",
        "\n",
        "      # get each unique word in the doc\n",
        "      for term in np.unique(sent):\n",
        "\n",
        "          # calculate Term Frequency\n",
        "          tf = counter[term]/total_num_words\n",
        "\n",
        "          # calculate Document Frequency\n",
        "          df = DF[term]\n",
        "\n",
        "          # calculate Inverse Document Frequency\n",
        "          idf = math.log(N/(df+1))+1\n",
        "\n",
        "          # calculate TF-IDF\n",
        "\n",
        "          tf_idf[doc_id, term] = tf*idf\n",
        "          # Document for amir\n",
        "          tf_idf_amir[term] = tf*idf\n",
        "      sentence_word = []\n",
        "      for word in sent:\n",
        "        sentence_word.append(tf_idf_amir[word])\n",
        "\n",
        "      output.append(sentence_word)\n",
        "\n",
        "      doc_id += 1\n",
        "  return output"
      ]
    },
    {
      "cell_type": "markdown",
      "source": [
        "##### Concatenating Features"
      ],
      "metadata": {
        "id": "WsCLdc1JpcBq"
      }
    },
    {
      "cell_type": "code",
      "source": [
        "import numpy as np\n",
        "import torch\n",
        "\n",
        "def concatenation_features(sentence_list):\n",
        "  \"\"\"\n",
        "  This function will concatinate the word vector created by the word_embeding(word)\n",
        "  + pos(word) + ner(word) + tf-idf(word) and returns calculated average of all the word vectors in the sentence to obtain the sentence vector.\n",
        "\n",
        "  Time: Takes 8mins for training, 3mins for validation, and 3mins for testing to run\n",
        "  \"\"\"\n",
        "  output = []\n",
        "  sentence_list= preprocess(sentence_list)\n",
        "  word_wv = word_embedding(sentence_list)\n",
        "  tf_idf_words = tf_idf(sentence_list)\n",
        "  tagged_words = pos_tagging(sentence_list)\n",
        "  tagged_words_wv = word_embedding(tagged_words)\n",
        "  ner_words = NER(sentence_list)\n",
        "  ner_words_wv = word_embedding(ner_words)\n",
        "\n",
        "  for i in range(len(sentence_list)):\n",
        "    sent = []\n",
        "\n",
        "    for j in range(len(sentence_list[i])):\n",
        "      concatenated_wv = np.concatenate((word_wv[i][j], tagged_words_wv[i][j], ner_words_wv[i][j]), axis=0)\n",
        "      #concatenated_wv = np.append(concatenated_wv, tf_idf_words[i][j])\n",
        "      sent.append(concatenated_wv)\n",
        "\n",
        "    output.append(sent)\n",
        "  return np.stack([np.mean(np.array(input_), axis=0) for input_ in output], axis=0)"
      ],
      "metadata": {
        "id": "pRK-CorrMp8-"
      },
      "execution_count": null,
      "outputs": []
    },
    {
      "cell_type": "code",
      "source": [
        "def get_preprocessed_tokenized_data(df):\n",
        "  questions_ = concatenation_features([q.split() for q in df[\"Question\"]])\n",
        "  answers_ = concatenation_features([a.split() for a in df[\"Sentence\"]])\n",
        "  labels_ = df[\"Label\"].values\n",
        "  return questions_, answers_, labels_"
      ],
      "metadata": {
        "id": "S9g80qReaZwb"
      },
      "execution_count": null,
      "outputs": []
    },
    {
      "cell_type": "markdown",
      "source": [
        "#### **Apply the Function**"
      ],
      "metadata": {
        "id": "UckXUTZRcSlt"
      }
    },
    {
      "cell_type": "code",
      "source": [
        "#prints the preferred encoding for the current locale.\n",
        "\n",
        "import locale\n",
        "print(locale.getpreferredencoding())"
      ],
      "metadata": {
        "colab": {
          "base_uri": "https://localhost:8080/"
        },
        "id": "kiOczv2tR28l",
        "outputId": "68dc6e3f-e409-421b-cbf1-86f62f093a0a"
      },
      "execution_count": null,
      "outputs": [
        {
          "output_type": "stream",
          "name": "stdout",
          "text": [
            "ANSI_X3.4-1968\n"
          ]
        }
      ]
    },
    {
      "cell_type": "code",
      "source": [
        "#always return \"UTF-8\" instead of the system's preferred encoding.\n",
        "\n",
        "import locale\n",
        "def getpreferredencoding(do_setlocale = True):\n",
        "    return \"UTF-8\"\n",
        "locale.getpreferredencoding = getpreferredencoding"
      ],
      "metadata": {
        "id": "oC9MyHO8R6Gv"
      },
      "execution_count": null,
      "outputs": []
    },
    {
      "cell_type": "code",
      "source": [
        "# #mounting Google Drive\n",
        "\n",
        "# from google.colab import drive\n",
        "# drive.mount('/content/drive')"
      ],
      "metadata": {
        "id": "TDAWkHfJ85kV"
      },
      "execution_count": null,
      "outputs": []
    },
    {
      "cell_type": "code",
      "source": [
        "#update to your local drive to save the output array and not preprocess everytime\n",
        "\n",
        "# %cp -r /content/drive/MyDrive/ColabNotebooks/embeddingsDataV2/ /content/"
      ],
      "metadata": {
        "id": "_8ZghNza9Lqj"
      },
      "execution_count": null,
      "outputs": []
    },
    {
      "cell_type": "code",
      "source": [
        "questions_train, answers_train, labels_train  =  get_preprocessed_tokenized_data(df_train)"
      ],
      "metadata": {
        "id": "KkHjeu23TK_s",
        "colab": {
          "base_uri": "https://localhost:8080/"
        },
        "outputId": "ca8cc4b3-786f-42e1-cf93-8bbc5449fd9d"
      },
      "execution_count": null,
      "outputs": [
        {
          "output_type": "stream",
          "name": "stdout",
          "text": [
            "[==================================================] 100.0% 128.1/128.1MB downloaded\n"
          ]
        }
      ]
    },
    {
      "cell_type": "code",
      "source": [
        "# # save the array to a file\n",
        "# np.save('questions_train.npy', questions_train)\n",
        "# np.save('answers_train.npy', answers_train)\n",
        "# np.save('labels_train.npy', labels_train)"
      ],
      "metadata": {
        "id": "VBHmtGww---E"
      },
      "execution_count": null,
      "outputs": []
    },
    {
      "cell_type": "code",
      "source": [
        "# # load the array from the file\n",
        "# questions_train = np.load('embeddingsDataV2/questions_train.npy')\n",
        "# answers_train   = np.load('embeddingsDataV2/answers_train.npy')\n",
        "# labels_train    = np.load('embeddingsDataV2/labels_train.npy')"
      ],
      "metadata": {
        "id": "DUkkJ340_2MF"
      },
      "execution_count": null,
      "outputs": []
    },
    {
      "cell_type": "code",
      "source": [
        "questions_train.shape, questions_train.shape, labels_train.shape"
      ],
      "metadata": {
        "colab": {
          "base_uri": "https://localhost:8080/"
        },
        "id": "5sb9L1OoqucM",
        "outputId": "80b74692-d29e-409d-ec36-cd07169fe9e7"
      },
      "execution_count": null,
      "outputs": [
        {
          "output_type": "execute_result",
          "data": {
            "text/plain": [
              "((20347, 300), (20347, 300), (20347,))"
            ]
          },
          "metadata": {},
          "execution_count": 28
        }
      ]
    },
    {
      "cell_type": "code",
      "source": [
        "questions_validation, answers_validation, labels_validation =  get_preprocessed_tokenized_data(df_val)"
      ],
      "metadata": {
        "id": "0xtg5YjFqoX8"
      },
      "execution_count": null,
      "outputs": []
    },
    {
      "cell_type": "code",
      "source": [
        "# # save the array to a file\n",
        "# np.save('questions_validation.npy', questions_validation)\n",
        "# np.save('answers_validation.npy', answers_validation)\n",
        "# np.save('labels_validation.npy', labels_validation)"
      ],
      "metadata": {
        "id": "gYBlPEeH_lnh"
      },
      "execution_count": null,
      "outputs": []
    },
    {
      "cell_type": "code",
      "source": [
        "# # load the array from the file\n",
        "# questions_validation = np.load('embeddingsDataV2/questions_validation.npy')\n",
        "# answers_validation   = np.load('embeddingsDataV2/answers_validation.npy')\n",
        "# labels_validation    = np.load('embeddingsDataV2/labels_validation.npy')"
      ],
      "metadata": {
        "id": "8J6l8zkzAD0i"
      },
      "execution_count": null,
      "outputs": []
    },
    {
      "cell_type": "code",
      "source": [
        "questions_validation.shape, answers_validation.shape, labels_validation.shape"
      ],
      "metadata": {
        "id": "cn1M5Aeiqzby",
        "colab": {
          "base_uri": "https://localhost:8080/"
        },
        "outputId": "8ce44be6-8b48-4623-abb6-3fd80ff2bd1f"
      },
      "execution_count": null,
      "outputs": [
        {
          "output_type": "execute_result",
          "data": {
            "text/plain": [
              "((3058, 300), (3058, 300), (3058,))"
            ]
          },
          "metadata": {},
          "execution_count": 32
        }
      ]
    },
    {
      "cell_type": "code",
      "source": [
        "questions_test, answers_test, labels_test =  get_preprocessed_tokenized_data(df_test)"
      ],
      "metadata": {
        "id": "H_Rw53lhqppS"
      },
      "execution_count": null,
      "outputs": []
    },
    {
      "cell_type": "code",
      "source": [
        "# # save the array to a file\n",
        "# np.save('questions_test.npy', questions_test)\n",
        "# np.save('answers_test.npy', answers_test)\n",
        "# np.save('labels_test.npy', labels_test)"
      ],
      "metadata": {
        "id": "99RxGMbO_teW"
      },
      "execution_count": null,
      "outputs": []
    },
    {
      "cell_type": "code",
      "source": [
        "# # load the array from the file\n",
        "# questions_test = np.load('embeddingsDataV2/questions_test.npy')\n",
        "# answers_test   = np.load('embeddingsDataV2/answers_test.npy')\n",
        "# labels_test    = np.load('embeddingsDataV2/labels_test.npy')"
      ],
      "metadata": {
        "id": "QK5qTuaGAFHH"
      },
      "execution_count": null,
      "outputs": []
    },
    {
      "cell_type": "code",
      "source": [
        "questions_test.shape, answers_test.shape, labels_test.shape"
      ],
      "metadata": {
        "colab": {
          "base_uri": "https://localhost:8080/"
        },
        "id": "x1rcTmc-h3S7",
        "outputId": "563dd603-a865-4805-8361-36408fd6acbe"
      },
      "execution_count": null,
      "outputs": [
        {
          "output_type": "execute_result",
          "data": {
            "text/plain": [
              "((3058, 300), (3058, 300), (3058,))"
            ]
          },
          "metadata": {},
          "execution_count": 36
        }
      ]
    },
    {
      "cell_type": "code",
      "source": [
        "# %cp -r /content/embeddingsDataV2 /content/drive/MyDrive/ColabNotebooks/"
      ],
      "metadata": {
        "id": "9KzjFYI4A5fF"
      },
      "execution_count": null,
      "outputs": []
    },
    {
      "cell_type": "markdown",
      "source": [
        "## <a>**Preprocess and Tokenize The Dataset Using a Single Feature**\n",
        "\n"
      ],
      "metadata": {
        "id": "793svYrqFWgS"
      }
    },
    {
      "cell_type": "code",
      "source": [
        "# import fasttext.util\n",
        "# fasttext.util.download_model('en', if_exists='ignore')  # English"
      ],
      "metadata": {
        "id": "mhNkYpf1hBCo"
      },
      "execution_count": null,
      "outputs": []
    },
    {
      "cell_type": "code",
      "source": [
        "# %cp -r /content/drive/MyDrive/ColabNotebooks/ /content/"
      ],
      "metadata": {
        "id": "F6B3COPooaZg"
      },
      "execution_count": null,
      "outputs": []
    },
    {
      "cell_type": "code",
      "source": [
        "# fasttext_model = fasttext.load_model(\"cc.en.300.bin\")"
      ],
      "metadata": {
        "id": "X4WITGoKUhYj"
      },
      "execution_count": null,
      "outputs": []
    },
    {
      "cell_type": "code",
      "source": [
        "# import nltk\n",
        "# from nltk.corpus import stopwords\n",
        "# import torch\n",
        "# import torch.nn as nn\n",
        "# import torch.optim as optim\n",
        "# from torch.utils.data import Dataset, DataLoader\n",
        "\n",
        "# # Preprocess the data\n",
        "# nltk.download('stopwords')\n",
        "# stop_words = stopwords.words('english')\n",
        "\n",
        "# def preprocess(text):\n",
        "#     text = text.lower()\n",
        "#     text = \" \".join([word for word in text.split() if word not in stop_words])\n",
        "#     text = \"\".join([char for char in text if char.isalnum() or char.isspace()])\n",
        "#     return text\n",
        "\n",
        "# # Tokenize the preprocessed text using FastText\n",
        "# def tokenize(text):\n",
        "#     return fasttext_model.get_sentence_vector(text)\n",
        "\n",
        "# def get_preprocessed_tokenized_data(df):\n",
        "#   questions_ = [preprocess(q) for q in df[\"Question\"]]\n",
        "#   questions_ = np.array([tokenize(q) for q in questions_])\n",
        "#   answers_ = [preprocess(a) for a in df[\"Sentence\"]]\n",
        "#   answers_ = np.array([tokenize(a) for a in answers_])\n",
        "#   labels_ = df[\"Label\"].values\n",
        "\n",
        "#   return questions_, answers_, labels_"
      ],
      "metadata": {
        "id": "Qgw8ZS1qe7ck"
      },
      "execution_count": null,
      "outputs": []
    },
    {
      "cell_type": "code",
      "source": [
        "# questions_train, answers_train, labels_train                =  get_preprocessed_tokenized_data(df_train)\n",
        "# questions_validation, answers_validation, labels_validation =  get_preprocessed_tokenized_data(df_val)\n",
        "# questions_test, answers_test, labels_test                   =  get_preprocessed_tokenized_data(df_test)"
      ],
      "metadata": {
        "id": "8LJMS5nTVNnW"
      },
      "execution_count": null,
      "outputs": []
    },
    {
      "cell_type": "markdown",
      "source": [
        "## <a>**Create Dataloaders**"
      ],
      "metadata": {
        "id": "b4uHAzFUV3S3"
      }
    },
    {
      "cell_type": "code",
      "source": [
        "import torch\n",
        "import torch.nn as nn\n",
        "import torch.optim as optim\n",
        "from torch.utils.data import Dataset, DataLoader"
      ],
      "metadata": {
        "id": "vzxWEhPViGC8"
      },
      "execution_count": null,
      "outputs": []
    },
    {
      "cell_type": "code",
      "source": [
        "class QADataset(Dataset):\n",
        "    def __init__(self, questions, answers, labels):\n",
        "        self.questions = questions\n",
        "        self.answers = answers\n",
        "        self.labels = labels\n",
        "\n",
        "    def __len__(self):\n",
        "        return len(self.labels)\n",
        "\n",
        "    def __getitem__(self, index):\n",
        "        question = self.questions[index]\n",
        "        answer = self.answers[index]\n",
        "        label = self.labels[index]\n",
        "        return question, answer, label"
      ],
      "metadata": {
        "id": "04_1faa1WVDJ"
      },
      "execution_count": null,
      "outputs": []
    },
    {
      "cell_type": "code",
      "source": [
        "train_set = QADataset(questions_train, answers_train, labels_train)\n",
        "val_set   = QADataset(questions_validation, answers_validation, labels_validation)\n",
        "test_set  = QADataset(questions_test, answers_test, labels_test)\n",
        "\n",
        "# Define your data loaders\n",
        "train_loader = DataLoader(train_set, batch_size=32, shuffle=True)\n",
        "val_loader   = DataLoader(val_set, batch_size=32)\n",
        "test_loader  = DataLoader(test_set, batch_size=32)"
      ],
      "metadata": {
        "id": "XBjdivR5g0zG"
      },
      "execution_count": null,
      "outputs": []
    },
    {
      "cell_type": "markdown",
      "source": [
        "## <a>**Define the LSTM Model Architecture**"
      ],
      "metadata": {
        "id": "me71qgaUWJ0F"
      }
    },
    {
      "cell_type": "code",
      "source": [
        "#BiLSTM Model with attention\n",
        "\n",
        "import torch\n",
        "import torch.nn as nn\n",
        "import torch.nn.functional as F\n",
        "\n",
        "class Attention(nn.Module):\n",
        "    def __init__(self, hidden_dim, attn_type):\n",
        "        super(Attention, self).__init__()\n",
        "        self.hidden_dim = hidden_dim\n",
        "        self.attn_type = attn_type\n",
        "\n",
        "        if self.attn_type == \"Dot Product\":\n",
        "            self.attn_func = self.dot_product_attention\n",
        "        elif self.attn_type == \"Scale Dot Product\":\n",
        "            self.attn_func = self.scale_dot_product_attention\n",
        "        elif self.attn_type == \"cosine_attention\":\n",
        "            self.attn_func = self.cosine_attention\n",
        "\n",
        "        else:\n",
        "            raise ValueError(\"Invalid attention type. Supported types: 'Dot Product', 'Scale Dot Product', 'cosine_attention'\")\n",
        "\n",
        "    def dot_product_attention(self, query, key, value):\n",
        "        value1, value2 = value\n",
        "        attn_weights = torch.matmul(query, key.transpose(-2, -1))\n",
        "        attn_weights = F.softmax(attn_weights, dim=-1)\n",
        "        attn_output1 = torch.matmul(attn_weights, value1)\n",
        "        attn_output2 = torch.matmul(attn_weights, value2)\n",
        "        attn_output = torch.cat((attn_output1, attn_output2), dim=1)\n",
        "        return attn_output\n",
        "\n",
        "\n",
        "    def scale_dot_product_attention(self, query, key, value):\n",
        "        value1, value2 = value\n",
        "        # Calculate the attention scores\n",
        "        attn_weights = torch.matmul(query, key.transpose(-2, -1))\n",
        "        attn_weights = attn_weights / torch.sqrt(torch.tensor(self.hidden_dim, dtype=torch.float32))\n",
        "        attn_weights = F.softmax(attn_weights, dim=-1)\n",
        "\n",
        "        # Apply the attention scores to each value tensor half\n",
        "        attn_output1 = torch.matmul(attn_weights, value1)\n",
        "        attn_output2 = torch.matmul(attn_weights, value2)\n",
        "        attn_output = torch.cat((attn_output1, attn_output2), dim=1)\n",
        "        return attn_output\n",
        "\n",
        "    def cosine_attention(self, query, key, value):\n",
        "        value1, value2 = value\n",
        "        # Normalize query and key tensors\n",
        "        query_norm = F.normalize(query, p=2, dim=-1)\n",
        "        key_norm = F.normalize(key, p=2, dim=-1)\n",
        "        # Calculate the cosine similarity between query and key\n",
        "        similarity = torch.matmul(query_norm, key_norm.transpose(-2, -1))\n",
        "        # Apply softmax to obtain attention weights\n",
        "        attn_weights = F.softmax(similarity, dim=-1)\n",
        "\n",
        "        # Apply the attention scores to each value tensor half\n",
        "        attn_output1 = torch.matmul(attn_weights, value1)\n",
        "        attn_output2 = torch.matmul(attn_weights, value2)\n",
        "        attn_output = torch.cat((attn_output1, attn_output2), dim=1)\n",
        "        return attn_output\n",
        "\n",
        "    def forward(self, query, key, value):\n",
        "        return self.attn_func(query, key, value)\n",
        "\n",
        "\n",
        "class LSTMModel(nn.Module):\n",
        "    def __init__(self, embedding_dim, hidden_dim, attn_type):\n",
        "        super(LSTMModel, self).__init__()\n",
        "        self.embedding_dim = embedding_dim\n",
        "        self.hidden_dim = hidden_dim\n",
        "        self.embedding = nn.Linear(embedding_dim, hidden_dim // 2)\n",
        "        self.lstm1 = nn.LSTM(hidden_dim // 2, hidden_dim, bidirectional=True)\n",
        "        self.lstm2 = nn.LSTM(hidden_dim // 2, hidden_dim, bidirectional=True)\n",
        "        self.fc = nn.Linear(hidden_dim * 8, 1)\n",
        "        self.sigmoid = nn.Sigmoid()\n",
        "        self.attention = Attention(hidden_dim, attn_type)\n",
        "\n",
        "    def forward(self, input1, input2):\n",
        "        x1 = self.embedding(input1)\n",
        "        x2 = self.embedding(input2)\n",
        "        # Pass input1 through the first LSTM\n",
        "        x1, _ = self.lstm1(x1.view(len(input1), 1, -1))\n",
        "        # Pass input2 through the second LSTM\n",
        "        x2, _ = self.lstm2(x2.view(len(input2), 1, -1))\n",
        "        # Apply attention mechanism to the LSTM outputs\n",
        "        attn_output = self.attention(x1, x2, (x1, x2))\n",
        "        # Concatenate the outputs of the two LSTMs with attention\n",
        "        x = torch.cat((x1.view(len(input1), -1), x2.view(len(input2), -1), attn_output.view(len(input1), -1)), dim=1)\n",
        "        x = self.fc(x)\n",
        "        x = self.sigmoid(x)\n",
        "        return x\n"
      ],
      "metadata": {
        "id": "HY2FjsL7CAv_"
      },
      "execution_count": null,
      "outputs": []
    },
    {
      "cell_type": "code",
      "source": [
        "#BiLSTM Model without attention\n",
        "\n",
        "# class LSTMModel(nn.Module):\n",
        "#     def __init__(self, embedding_dim, hidden_dim):\n",
        "#         super(LSTMModel, self).__init__()\n",
        "#         self.embedding_dim = embedding_dim\n",
        "#         self.hidden_dim = hidden_dim\n",
        "#         self.embedding = nn.Linear(embedding_dim, hidden_dim//2)\n",
        "#         self.lstm1 = nn.LSTM(hidden_dim//2, hidden_dim, bidirectional=True)\n",
        "#         self.lstm2 = nn.LSTM(hidden_dim//2, hidden_dim, bidirectional=True)\n",
        "#         self.fc = nn.Linear(hidden_dim*4, 1)\n",
        "#         self.sigmoid = nn.Sigmoid()\n",
        "\n",
        "#     def forward(self, input1, input2):\n",
        "#         x1 = self.embedding(input1)\n",
        "#         x2 = self.embedding(input2)\n",
        "#         # Pass input1 through the first LSTM\n",
        "#         x1, _ = self.lstm1(x1.view(len(input1), 1, -1))\n",
        "#         # Pass input2 through the second LSTM\n",
        "#         x2, _ = self.lstm2(x2.view(len(input2), 1, -1))\n",
        "#         # Concatenate the outputs of the two LSTMs\n",
        "#         x = torch.cat((x1.view(len(input1), -1), x2.view(len(input2), -1)), dim=1)\n",
        "#         x = self.fc(x)\n",
        "#         x = self.sigmoid(x)\n",
        "#         return x\n"
      ],
      "metadata": {
        "id": "tEJH_M77CwP3"
      },
      "execution_count": null,
      "outputs": []
    },
    {
      "cell_type": "code",
      "source": [
        "# Initialize your model and optimizer\n",
        "model = LSTMModel(embedding_dim=300, hidden_dim=256, attn_type='Dot Product')\n",
        "model.to('cuda')\n",
        "criterion = nn.BCEWithLogitsLoss()\n",
        "optimizer = optim.Adam(model.parameters(), lr=0.00001)\n",
        "num_epochs=20"
      ],
      "metadata": {
        "id": "6OCByVXHe7rE"
      },
      "execution_count": null,
      "outputs": []
    },
    {
      "cell_type": "markdown",
      "source": [
        "## <a>**Training and Evaluating Code**"
      ],
      "metadata": {
        "id": "3MTkFF-uWdVY"
      }
    },
    {
      "cell_type": "code",
      "source": [
        "def evaluate(model, data_loader, criterion):\n",
        "    model.eval()\n",
        "    val_loss = 0\n",
        "    correct = 0\n",
        "    total = 0\n",
        "    with torch.no_grad():\n",
        "        for questions, answers, labels in data_loader:\n",
        "            questions = questions.clone().detach().float().to('cuda')  # convert input1 to Float tensor\n",
        "            answers = answers.clone().detach().float().to('cuda')   # convert input2 to Float tensor\n",
        "            labels = labels.clone().detach().float().to('cuda')\n",
        "            output = model(questions, answers)\n",
        "            loss = criterion(output.view(-1), labels)\n",
        "            val_loss += loss.item()\n",
        "            pred = torch.round(torch.sigmoid(output))\n",
        "            correct += (pred.squeeze() == labels).sum().item()\n",
        "            total += labels.size(0)\n",
        "    val_loss /= len(data_loader.dataset)\n",
        "    val_acc = correct / total\n",
        "    return val_loss, val_acc"
      ],
      "metadata": {
        "id": "TbgWi-Hj5QcQ"
      },
      "execution_count": null,
      "outputs": []
    },
    {
      "cell_type": "code",
      "source": [
        "# define your training loop\n",
        "best_val_acc = 0\n",
        "for epoch in range(num_epochs):\n",
        "    model.train()\n",
        "    train_loss = 0\n",
        "    correct = 0\n",
        "    total = 0\n",
        "    for questions, answers, labels in train_loader:\n",
        "        questions = questions.clone().detach().float().to('cuda')   # convert input1 to Float tensor\n",
        "        answers = answers.clone().detach().float().to('cuda')   # convert input2 to Float tensor\n",
        "        labels = labels.clone().detach().float().to('cuda')\n",
        "        optimizer.zero_grad()\n",
        "        output = model(questions, answers)\n",
        "        loss = criterion(output.view(-1), labels)\n",
        "        loss.backward()\n",
        "        optimizer.step()\n",
        "        train_loss += loss.item()\n",
        "        pred = torch.round(torch.sigmoid(output))\n",
        "\n",
        "        correct += (pred.squeeze() == labels).sum().item()\n",
        "\n",
        "\n",
        "        total += labels.size(0)\n",
        "    train_loss /= len(train_loader.dataset)\n",
        "    train_acc = correct / total\n",
        "\n",
        "    val_loss, val_acc = evaluate(model, val_loader, criterion)\n",
        "\n",
        "    print(f\"Epoch {epoch+1}: train_loss={train_loss:.4f}, train_acc={train_acc:.4f}, val_loss={val_loss:.4f}, val_acc={val_acc:.4f}\")\n",
        "\n",
        "    if val_acc > best_val_acc:\n",
        "        best_val_acc = val_acc\n",
        "        torch.save(model.state_dict(), \"best_model.pth\")\n",
        "\n",
        "print(\"Training finished.\")\n"
      ],
      "metadata": {
        "colab": {
          "base_uri": "https://localhost:8080/"
        },
        "id": "nSCwPv_j46I_",
        "outputId": "b94231d1-c020-412e-c558-5c1918f7cd4a"
      },
      "execution_count": null,
      "outputs": [
        {
          "output_type": "stream",
          "name": "stdout",
          "text": [
            "Epoch 1: train_loss=0.0239, train_acc=0.0511, val_loss=0.0218, val_acc=0.0474\n",
            "Epoch 2: train_loss=0.0217, train_acc=0.0511, val_loss=0.0218, val_acc=0.0474\n",
            "Epoch 3: train_loss=0.0217, train_acc=0.0511, val_loss=0.0218, val_acc=0.0474\n",
            "Epoch 4: train_loss=0.0217, train_acc=0.0511, val_loss=0.0218, val_acc=0.0474\n",
            "Epoch 5: train_loss=0.0217, train_acc=0.0511, val_loss=0.0218, val_acc=0.0474\n",
            "Epoch 6: train_loss=0.0217, train_acc=0.0511, val_loss=0.0218, val_acc=0.0474\n",
            "Epoch 7: train_loss=0.0217, train_acc=0.0516, val_loss=0.0218, val_acc=0.0491\n",
            "Epoch 8: train_loss=0.0217, train_acc=0.1700, val_loss=0.0218, val_acc=0.2279\n",
            "Epoch 9: train_loss=0.0217, train_acc=0.2812, val_loss=0.0218, val_acc=0.3041\n",
            "Epoch 10: train_loss=0.0217, train_acc=0.3427, val_loss=0.0218, val_acc=0.3542\n",
            "Epoch 11: train_loss=0.0217, train_acc=0.3880, val_loss=0.0218, val_acc=0.3944\n",
            "Epoch 12: train_loss=0.0217, train_acc=0.4257, val_loss=0.0218, val_acc=0.4349\n",
            "Epoch 13: train_loss=0.0217, train_acc=0.4558, val_loss=0.0218, val_acc=0.4591\n",
            "Epoch 14: train_loss=0.0217, train_acc=0.4850, val_loss=0.0218, val_acc=0.4899\n",
            "Epoch 15: train_loss=0.0217, train_acc=0.5091, val_loss=0.0218, val_acc=0.5088\n",
            "Epoch 16: train_loss=0.0217, train_acc=0.5389, val_loss=0.0218, val_acc=0.5409\n",
            "Epoch 17: train_loss=0.0217, train_acc=0.5584, val_loss=0.0218, val_acc=0.5543\n",
            "Epoch 18: train_loss=0.0217, train_acc=0.5802, val_loss=0.0218, val_acc=0.5863\n",
            "Epoch 19: train_loss=0.0217, train_acc=0.6106, val_loss=0.0218, val_acc=0.6050\n",
            "Epoch 20: train_loss=0.0217, train_acc=0.6176, val_loss=0.0218, val_acc=0.6181\n",
            "Training finished.\n"
          ]
        }
      ]
    },
    {
      "cell_type": "code",
      "source": [
        "test_loss, test_acc = evaluate(model, test_loader, criterion)\n",
        "print('Test Loss:', test_loss)\n",
        "print('Test Accuracy:', test_acc)"
      ],
      "metadata": {
        "colab": {
          "base_uri": "https://localhost:8080/"
        },
        "id": "gJMgylBADCxp",
        "outputId": "1ffd8080-c99f-4d4a-8bef-547a835c2762"
      },
      "execution_count": null,
      "outputs": [
        {
          "output_type": "stream",
          "name": "stdout",
          "text": [
            "Test Loss: 0.021760026405963185\n",
            "Test Accuracy: 0.6258992805755396\n"
          ]
        }
      ]
    },
    {
      "cell_type": "code",
      "source": [
        "predsList, TrueList= [], []\n",
        "with torch.no_grad():\n",
        "    for questions, answers, labels in test_loader:\n",
        "        questions = questions.clone().detach().float().to('cuda')  # convert input1 to Float tensor\n",
        "        answers = answers.clone().detach().float().to('cuda')   # convert input2 to Float tensor\n",
        "        labels = labels.clone().detach().float().to('cuda')\n",
        "        output = model(questions, answers)\n",
        "        loss = criterion(output.view(-1), labels)\n",
        "        pred = torch.round(torch.sigmoid(output))\n",
        "        predsList.extend(pred.squeeze().cpu().tolist())\n",
        "        TrueList.extend(labels.cpu().tolist())"
      ],
      "metadata": {
        "id": "l30nzAo0P58M"
      },
      "execution_count": null,
      "outputs": []
    },
    {
      "cell_type": "markdown",
      "source": [
        "##### ***`Confusion Matrix`, `Classification Report` and `ROC AUC Curves`***"
      ],
      "metadata": {
        "id": "6WZUZ0R10LWK"
      }
    },
    {
      "cell_type": "code",
      "source": [
        "import seaborn as sns\n",
        "sns.set(rc={'figure.figsize':(11.7,8.27)})"
      ],
      "metadata": {
        "id": "d7crEM6E0LWL"
      },
      "execution_count": null,
      "outputs": []
    },
    {
      "cell_type": "code",
      "source": [
        "from sklearn.metrics import accuracy_score, roc_curve, auc, confusion_matrix, classification_report\n",
        "import matplotlib.pyplot as plt\n"
      ],
      "metadata": {
        "id": "VJpv51oO0LWL"
      },
      "execution_count": null,
      "outputs": []
    },
    {
      "cell_type": "code",
      "source": [
        "confusionMatrix = confusion_matrix(TrueList, predsList)\n",
        "\n",
        "ax = sns.heatmap(confusionMatrix, annot=True, cmap='Blues',fmt='g')\n",
        "\n",
        "ax.set_title('Confusion Matrix with labels\\n\\n');\n",
        "ax.set_xlabel('\\nPredicted Classes')\n",
        "ax.set_ylabel('Actual Classes ');\n",
        "\n",
        "\n",
        "## Display the visualization of the Confusion Matrix.\n",
        "plt.show()"
      ],
      "metadata": {
        "colab": {
          "base_uri": "https://localhost:8080/",
          "height": 810
        },
        "outputId": "43fec88f-fbb3-4391-8a32-82461a558282",
        "id": "YPshBCr70LWM"
      },
      "execution_count": null,
      "outputs": [
        {
          "output_type": "display_data",
          "data": {
            "text/plain": [
              "<Figure size 1170x827 with 2 Axes>"
            ],
            "image/png": "[encoded data removed]"
          },
          "metadata": {}
        }
      ]
    },
    {
      "cell_type": "code",
      "source": [
        "print(classification_report(TrueList, predsList,zero_division=0))"
      ],
      "metadata": {
        "colab": {
          "base_uri": "https://localhost:8080/"
        },
        "outputId": "551fcc70-3565-4069-9b32-2b267854d2dc",
        "id": "Nf5T7LUH0LWM"
      },
      "execution_count": null,
      "outputs": [
        {
          "output_type": "stream",
          "name": "stdout",
          "text": [
            "              precision    recall  f1-score   support\n",
            "\n",
            "         0.0       0.95      0.64      0.76      2912\n",
            "         1.0       0.05      0.38      0.09       146\n",
            "\n",
            "    accuracy                           0.63      3058\n",
            "   macro avg       0.50      0.51      0.43      3058\n",
            "weighted avg       0.91      0.63      0.73      3058\n",
            "\n"
          ]
        }
      ]
    },
    {
      "cell_type": "code",
      "source": [
        "from sklearn.metrics import roc_auc_score\n",
        "score = roc_auc_score(TrueList, predsList)\n",
        "print(f\"ROC AUC: {score:.2f}\")"
      ],
      "metadata": {
        "colab": {
          "base_uri": "https://localhost:8080/"
        },
        "outputId": "85321c08-13b5-4e6a-c40c-85a48a4ab692",
        "id": "OQXDXgMZ0LWN"
      },
      "execution_count": null,
      "outputs": [
        {
          "output_type": "stream",
          "name": "stdout",
          "text": [
            "ROC AUC: 0.51\n"
          ]
        }
      ]
    },
    {
      "cell_type": "code",
      "source": [
        "from sklearn.metrics import roc_curve\n",
        "from sklearn.metrics import RocCurveDisplay\n",
        "def plot_sklearn_roc_curve(y_real, y_pred):\n",
        "    fpr, tpr, _ = roc_curve(y_real, y_pred)\n",
        "    roc_display = RocCurveDisplay(fpr=fpr, tpr=tpr).plot()\n",
        "    roc_display.figure_.set_size_inches(10,10)\n",
        "    plt.plot([0, 1], [0, 1], color = 'g')\n",
        "\n",
        "# Plots the ROC curve using the sklearn methods\n",
        "plot_sklearn_roc_curve(TrueList, predsList)"
      ],
      "metadata": {
        "colab": {
          "base_uri": "https://localhost:8080/",
          "height": 858
        },
        "outputId": "217ea742-a2b4-4e2a-9604-f5cc5e874a36",
        "id": "Fez1D2CI0LWN"
      },
      "execution_count": null,
      "outputs": [
        {
          "output_type": "display_data",
          "data": {
            "text/plain": [
              "<Figure size 1000x1000 with 1 Axes>"
            ],
            "image/png": "[encoded data removed]"
          },
          "metadata": {}
        }
      ]
    },
    {
      "cell_type": "code",
      "source": [
        "def predict_answer(model, question, candidate_answers):\n",
        "    # Tokenize the question and candidate answers\n",
        "    questions_ = concatenation_features([question.split()])\n",
        "\n",
        "    answer_tokens = concatenation_features([a.split() for a in candidate_answers])\n",
        "\n",
        "    # Convert the indices to PyTorch tensors\n",
        "    question_tensor = torch.tensor(questions_)\n",
        "    answer_tensors = [torch.tensor(indices).unsqueeze(0) for indices in answer_tokens]\n",
        "    # Compute the scores for each candidate answer\n",
        "    scores = []\n",
        "    with torch.no_grad():\n",
        "        for answer_tensor in answer_tensors:\n",
        "\n",
        "            output = model(question_tensor.clone().detach().float().to('cuda'), answer_tensor.clone().detach().float().to('cuda'))\n",
        "            score = torch.sigmoid(output).item()\n",
        "            scores.append(score)\n",
        "    # Return the candidate answer with the highest score\n",
        "    return candidate_answers[np.argmax(scores)]\n"
      ],
      "metadata": {
        "id": "toa-9UoV8fX9"
      },
      "execution_count": null,
      "outputs": []
    },
    {
      "cell_type": "code",
      "source": [
        "model.eval()\n",
        "\n",
        "question__ = \"what causes heart disease?\"\n",
        "answers__ = [\"Cardiovascular disease (also called heart disease) is a class of diseases that involve the heart or blood vessels ( arteries , capillaries , and veins ).\",\n",
        "           \"Cardiovascular disease refers to any disease that affects the cardiovascular system , principally cardiac disease, vascular diseases of the brain and kidney , and peripheral arterial disease.\",\n",
        "           \"The causes of cardiovascular disease are diverse but atherosclerosis and/or hypertension are the most common.\",\n",
        "           \"Additionally, with aging come a number of physiological and morphological changes that alter cardiovascular function and lead to subsequently increased risk of cardiovascular disease, even in healthy asymptomatic individuals.\"]\n",
        "\n",
        "ans= predict_answer(model, question__, answers__)\n",
        "\n",
        "print(f\"The predicted answer is: {ans}\")\n"
      ],
      "metadata": {
        "id": "_kzMQPn1BUuc",
        "colab": {
          "base_uri": "https://localhost:8080/"
        },
        "outputId": "bd31cb6c-d4c7-4d84-9ca7-06a6f8192489"
      },
      "execution_count": null,
      "outputs": [
        {
          "output_type": "stream",
          "name": "stdout",
          "text": [
            "The predicted answer is: Cardiovascular disease refers to any disease that affects the cardiovascular system , principally cardiac disease, vascular diseases of the brain and kidney , and peripheral arterial disease.\n"
          ]
        }
      ]
    },
    {
      "cell_type": "code",
      "source": [
        "%cp -r /content/best_model.pth /content/drive/MyDrive/ColabNotebooks/"
      ],
      "metadata": {
        "id": "TbHi0faXnaSQ",
        "colab": {
          "base_uri": "https://localhost:8080/"
        },
        "outputId": "208332fa-bba8-49a4-b97e-dbbca5121b78"
      },
      "execution_count": null,
      "outputs": [
        {
          "output_type": "stream",
          "name": "stdout",
          "text": [
            "cp: cannot create regular file '/content/drive/MyDrive/ColabNotebooks/': No such file or directory\n"
          ]
        }
      ]
    },
    {
      "cell_type": "code",
      "source": [
        "import matplotlib.pyplot as plt\n",
        "\n",
        "# Since dot product attention parameter is giving the optimum recall results, we fixed it for this evaluation across all models\n",
        "# 1 feature = Word2vec\n",
        "# 2 features = Word2vec + POS\n",
        "# 3 features = Word2vec + POS + NER tag\n",
        "# 4 features = Word2vec + POS + NER tag + TF-IDF\n",
        "\n",
        "plt.title(\"Different Models Performance Using Dot Product Attention\") # Set graph/figure title\n",
        "plt.ylabel(\"Recall\") # Set y-axis title\n",
        "plt.xlabel(\"Number of Features\") # Set x-axis title\n",
        "\n",
        "Features = [1,2,3,4]\n",
        "Recall = [0.36,0.39,0.40,0.37]\n",
        "plt.bar(Features,Recall)\n",
        "\n",
        "plt.show() # show the bar chart\n"
      ],
      "metadata": {
        "colab": {
          "base_uri": "https://localhost:8080/",
          "height": 747
        },
        "id": "Vj4voJNtSoyF",
        "outputId": "613cd319-ad2f-444d-ee73-8b20e0159414"
      },
      "execution_count": null,
      "outputs": [
        {
          "output_type": "display_data",
          "data": {
            "text/plain": [
              "<Figure size 1170x827 with 1 Axes>"
            ],
            "image/png": "[encoded data removed]"
          },
          "metadata": {}
        }
      ]
    },
    {
      "cell_type": "code",
      "source": [
        "# In this sction we will compare the\n",
        "\n",
        "from tabulate import tabulate\n",
        "attention = ['Dot Product','Scale Dot Product','Cosine']\n",
        "recall = [0.40,0.37,0.37]\n",
        "table = [['']+['attention type: '+str(i) for i in attention], ['Recall']+recall]\n",
        "print(tabulate(table, headers='firstrow', tablefmt='fancy_grid'))"
      ],
      "metadata": {
        "colab": {
          "base_uri": "https://localhost:8080/"
        },
        "id": "VGG5NeCdVexP",
        "outputId": "23aac073-ebc8-4eb1-c9f5-998d2d55add9"
      },
      "execution_count": null,
      "outputs": [
        {
          "output_type": "stream",
          "name": "stdout",
          "text": [
            "╒════════╤═══════════════════════════════╤═════════════════════════════════════╤══════════════════════════╕\n",
            "│        │   attention type: Dot Product │   attention type: Scale Dot Product │   attention type: Cosine │\n",
            "╞════════╪═══════════════════════════════╪═════════════════════════════════════╪══════════════════════════╡\n",
            "│ Recall │                           0.4 │                                0.37 │                     0.37 │\n",
            "╘════════╧═══════════════════════════════╧═════════════════════════════════════╧══════════════════════════╛\n"
          ]
        }
      ]
    },
    {
      "cell_type": "code",
      "source": [
        "import matplotlib.pyplot as plt\n",
        "import random\n",
        "\n",
        "plt.title(\"Model Performance with Different Learning Rate\") # Set graph/figure title\n",
        "plt.ylabel(\"Recall\") # Set y-axis title\n",
        "plt.xlabel(\"Learning Rate\") # Set x-axis title\n",
        "\n",
        "selected_models = ['Word2vec + POS + NER tag']\n",
        "\n",
        "for selected_model in selected_models: # for each encoder variant, we will draw one line graph, showing the validation loss of each epoch\n",
        "  lr = [0.000001, 0.00001, 0.0001, 0.001, 0.01] # for each variant, we apply 3 epochs. Thus, we will have epoch 1, 2, 3 (or 0, 1, 2 if you starts with 0)\n",
        "  recall = [1, 0.4, 0.08, 0, 0] # for each epoch, we recorded the validation loss. Note that here we apply random numbers only for demonstration. However, you need to record your real validation loss if needed.\n",
        "  plt.plot(lr,recall, label=\"{0} selected model\".format(selected_model)) # label each line graph with the encoder number (see the actual plotting in the graph below)\n",
        "\n",
        "plt.legend(); # this turns on the legends, which shows the label for each line graph. You can comment it out and rerun the code to see the difference\n",
        "plt.show() # show the final figure\n",
        "\n",
        "# More details of .plot() plotting can be found from: https://matplotlib.org/stable/api/_as_gen/matplotlib.pyplot.plot.html"
      ],
      "metadata": {
        "colab": {
          "base_uri": "https://localhost:8080/",
          "height": 472
        },
        "id": "kpMBfFBuK_BY",
        "outputId": "f13c7a44-ca18-40b3-c2a3-5948ab45b329"
      },
      "execution_count": null,
      "outputs": [
        {
          "output_type": "display_data",
          "data": {
            "text/plain": [
              "<Figure size 640x480 with 1 Axes>"
            ],
            "image/png": "[encoded data removed]"
          },
          "metadata": {}
        }
      ]
    }
  ]
}